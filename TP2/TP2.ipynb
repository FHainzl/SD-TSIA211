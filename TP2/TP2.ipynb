{
 "cells": [
  {
   "cell_type": "code",
   "execution_count": 3,
   "metadata": {
    "collapsed": true
   },
   "outputs": [],
   "source": [
    "from numpy import log, exp, sqrt\n",
    "from scipy import linalg\n",
    "from scipy.optimize import check_grad\n",
    "import numpy as np\n",
    "import matplotlib.pyplot as plt\n",
    "import time"
   ]
  },
  {
   "cell_type": "code",
   "execution_count": 11,
   "metadata": {
    "collapsed": true
   },
   "outputs": [],
   "source": [
    "# Prepare Data\n",
    "from diabeticRetinopathyUtils import load_diabetic_retinopathy\n",
    "\n",
    "X, y = load_diabetic_retinopathy(filename=\"diabeticRetinopathy.csv\")\n",
    "n,p = X.shape\n",
    "X_ = np.column_stack((np.ones(n), X))"
   ]
  },
  {
   "cell_type": "markdown",
   "metadata": {},
   "source": [
    "## Question 1.1"
   ]
  },
  {
   "cell_type": "markdown",
   "metadata": {},
   "source": [
    "### Computing the value, gradient and hessian of the objective function $f$\n",
    "\n",
    "The goal is to find $ (w_0^*, w^*) = \\underset{w_0 \\in \\mathbb{R}, w \\in \\mathbb{R}^n}{arg min} f(w_0, w)$ where $$f(w_0, w) = \\frac{1}{n}\\sum_{i=1}^n{log\\left(1+ e^{-y_i\\left(X_i^Tw+w_0\\right)}\\right)} + \\frac{\\rho}{2}{\\|w\\|}^2_2$$\n",
    "\n",
    "\n",
    "The gradient will be :\n",
    "\n",
    "$$ \\nabla f(w_{0},w ) =\\big ( \\frac {\\partial f}{\\partial w_0} ,  \\frac {\\partial f}{\\partial w} \\big) = \\big( \\frac{1}{n}\\sum_{i=1}^{n}\\frac{-y_{i}}{1 + exp(y_{i}(X_{i}^T w + w_{0}))} , \\frac{1}{n}\\sum_{i=1}^{n}\\frac{-X_{i} y_{i}}{1 + exp(y_{i}(X_{i}^T w + w_{0}))} + \\rho w  \\big)   $$\n",
    "\n",
    "\n",
    "The Hessian matrix will be : \n",
    "\n",
    "\n",
    "Let $ z_{i} = X_{i}^T w +w_{0} $\n",
    "\n",
    "$$ \\frac {\\partial^2 f}{\\partial w_0 ^2} =  \\frac {1}{n} \\sum_{i=1}^{n} \\frac {exp(y_{i}z_{i})y_{i}^2}{( 1 + exp(y_{i}z_{i}))^2}  $$\n",
    "\n",
    "$$ \\frac {\\partial^2 f}{\\partial w_0 \\partial w} =  \\frac {1}{n} \\sum_{i=1}^{n} \\frac {X_{i}^{T} y_{i}^2 exp(y_{i}z_{i})}{( 1 + exp(y_{i}z_{i}))^2} $$\n",
    "\n",
    "$$ \\frac {\\partial^2 f}{\\partial w \\partial w_0} =  \\frac {1}{n} \\sum_{i=1}^{n} \\frac {X_{i} y_{i}^2 exp(y_{i}z_{i})}{( 1 + exp(y_{i}z_{i}))^2} $$\n",
    "\n",
    "$$ \\frac {\\partial^2 f}{\\partial w ^2} =  \\frac {1}{n} \\sum_{i=1}^{n} \\frac {X_{i}X_{i}^{T} y_{i}^2  exp(y_{i}z_{i})}{( 1 + exp(y_{i}z_{i}))^2}  + \\rho I$$\n",
    "\n",
    "$$\n",
    "Hessian(f) = \n",
    "    \\begin{pmatrix} \n",
    "    \\frac {\\partial^2 f}{\\partial w_0 ^2} &  \\frac {\\partial^2 f}{\\partial w_0 \\partial w}\\\\\n",
    "    \\frac {\\partial^2 f}{\\partial w \\partial w_0} & \\frac {\\partial^2 f}{\\partial w ^2} \n",
    "    \\end{pmatrix}\n",
    "$$\n",
    "\n",
    "$$\n",
    "Hessian(f) = \\frac {1}{n} \\sum_{i=1}^{n} \\frac {exp(y_{i}z_{i})y_{i}^2}{( 1 + exp(y_{i}z_{i}))^2}\n",
    "    \\begin{pmatrix} \n",
    "    1 &  X_{i}^{T}\\\\\n",
    "    X_{i} &  X_{i}X_{i}^{T}\n",
    "    \\end{pmatrix}\n",
    "    +\n",
    "    \\begin{pmatrix} \n",
    "    0 &  \\bold 0\\\\\n",
    "    \\bold 0 &  \\rho I\n",
    "    \\end{pmatrix}\n",
    "$$\n",
    "#### We can see that every element of the hessian matrix is positive, so we can say that the hessian matrix is positive and the objetive funtion is convex."
   ]
  },
  {
   "cell_type": "markdown",
   "metadata": {},
   "source": [
    "## Question 1.2"
   ]
  },
  {
   "cell_type": "code",
   "execution_count": 4,
   "metadata": {
    "collapsed": true
   },
   "outputs": [],
   "source": [
    "rho = 1.0 / X.shape[0]\n",
    "w=np.ones(X.shape[1])"
   ]
  },
  {
   "cell_type": "code",
   "execution_count": 80,
   "metadata": {
    "collapsed": true
   },
   "outputs": [],
   "source": [
    "def objective_function(w0, w, X, y, rho):\n",
    "    \n",
    "    n, m = X.shape\n",
    "    z = [np.dot(X[i], w) + w0 for i in range(n)]\n",
    "\n",
    "    # VALUE\n",
    "    summands = [log(1 + exp(-y[i] * z[i])) for i in range(n)]\n",
    "    func = (1 / n) * sum(summands) + (rho / 2) * np.linalg.norm(w)**2\n",
    "\n",
    "    # GRADIENT\n",
    "    summands = [-y[i] / (1 + exp(y[i] * z[i])) for i in range(n)]\n",
    "    grad_w0 = (1 / n) * sum(summands)\n",
    "\n",
    "    summands = [-X[i] * y[i] / (1 + exp(y[i] * z[i])) for i in range(n)]\n",
    "    grad_w = (1 / n) * sum(summands) + rho * w\n",
    "\n",
    "    # HESSIAN\n",
    "    ex = [exp(y[i] * z[i]) for i in range(n)]\n",
    "\n",
    "    block0 = [ex[i] * y[i]**2 / (1 + ex[i])**2 for i in range(n)]\n",
    "\n",
    "    block1 = [X[i] * (ex[i] * y[i]**2 / (1 + ex[i])**2) for i in range(n)]\n",
    "\n",
    "    block2 = [np.outer(X[i], X[i]) * ex[i] * y[i]**2 /\n",
    "              (1 + ex[i])**2 for i in range(n)]\n",
    "\n",
    "    block0 = (1 / n) * sum(block0)\n",
    "\n",
    "    block1 = (1 / n) * sum(block1)\n",
    "\n",
    "    block2 = (1 / n) * sum(block2) + rho * np.eye(m)\n",
    "\n",
    "    hessian = np.block([\n",
    "        [block0,      block1.reshape(1, m)],\n",
    "        [block1.reshape(m, 1),  block2]\n",
    "    ])\n",
    "\n",
    "    return func, np.append(grad_w0, grad_w), hessian"
   ]
  },
  {
   "cell_type": "code",
   "execution_count": 81,
   "metadata": {
    "collapsed": true
   },
   "outputs": [],
   "source": [
    "def func(w_):\n",
    "    w0 = w_[0]\n",
    "    w = w_[1:]\n",
    "    val, grad, hessian = objective_function(w0, w, X, y, rho)\n",
    "    return val\n",
    "\n",
    "def grad(w_):\n",
    "    w0 = w_[0]\n",
    "    w = w_[1:]\n",
    "    val, grad, hessian = objective_function(w0, w, X, y, rho)\n",
    "    return grad"
   ]
  },
  {
   "cell_type": "code",
   "execution_count": 82,
   "metadata": {},
   "outputs": [
    {
     "name": "stdout",
     "output_type": "stream",
     "text": [
      "5.56968199646e-06\n"
     ]
    }
   ],
   "source": [
    "rho = 1.0 / X.shape[0]\n",
    "epsilon = 1e-10\n",
    "w0 = 0.0\n",
    "w = np.zeros(X.shape[1])\n",
    "\n",
    "print(check_grad(func, grad, np.append(w0, w)))"
   ]
  },
  {
   "cell_type": "markdown",
   "metadata": {},
   "source": [
    "## Question 1.3"
   ]
  },
  {
   "cell_type": "code",
   "execution_count": 83,
   "metadata": {
    "collapsed": true
   },
   "outputs": [],
   "source": [
    "def newton(f, w0, w, X, y, rho, epsilon):\n",
    "\n",
    "    val, grad, hessian = objective_function(w0, w, X, y, rho)\n",
    "\n",
    "    norm = np.linalg.norm(grad[1:])\n",
    "    k = 0\n",
    "\n",
    "    while(norm > epsilon):\n",
    "        l = np.append(w0, w) - np.linalg.solve(hessian, grad)\n",
    "        w0 = l[0]\n",
    "        w = l[1:]\n",
    "\n",
    "        val, grad, hessian = objective_function(w0, w, X, y, rho)\n",
    "\n",
    "        norm = np.linalg.norm(grad[1:])\n",
    "\n",
    "        k = k + 1\n",
    "\n",
    "    return val, np.append(w0,w), k"
   ]
  },
  {
   "cell_type": "code",
   "execution_count": 84,
   "metadata": {},
   "outputs": [
    {
     "data": {
      "text/plain": [
       "array([ 0.67731198,  0.28526576, -0.24554742,  5.61365006,  0.9888679 ,\n",
       "       -1.82791918, -2.55695256, -1.58747255,  0.43396361,  0.48515529,\n",
       "       -0.40441764,  0.17280405, -0.57564945,  0.43832626, -0.62435831,\n",
       "        1.25356177,  0.72621094, -0.00607139, -0.1490878 , -0.09505212])"
      ]
     },
     "execution_count": 84,
     "metadata": {},
     "output_type": "execute_result"
    }
   ],
   "source": [
    "rho = 1.0 / X.shape[0]\n",
    "epsilon = 10e-10\n",
    "w0 = 0.0\n",
    "w = np.zeros(X.shape[1])\n",
    "\n",
    "val, w_, k = newton(objective_function, w0, w, X, y, rho, epsilon)\n",
    "\n",
    "w_"
   ]
  },
  {
   "cell_type": "markdown",
   "metadata": {
    "collapsed": true
   },
   "source": [
    "## Question 1.4"
   ]
  },
  {
   "cell_type": "markdown",
   "metadata": {
    "collapsed": true
   },
   "source": [
    "####  Answer : we find the problem of overflow !!"
   ]
  },
  {
   "cell_type": "code",
   "execution_count": 85,
   "metadata": {},
   "outputs": [
    {
     "name": "stderr",
     "output_type": "stream",
     "text": [
      "/Users/alexandrema/anaconda3/lib/python3.6/site-packages/ipykernel_launcher.py:21: RuntimeWarning: overflow encountered in double_scalars\n",
      "/Users/alexandrema/anaconda3/lib/python3.6/site-packages/ipykernel_launcher.py:23: RuntimeWarning: overflow encountered in double_scalars\n",
      "/Users/alexandrema/anaconda3/lib/python3.6/site-packages/ipykernel_launcher.py:26: RuntimeWarning: overflow encountered in double_scalars\n",
      "/Users/alexandrema/anaconda3/lib/python3.6/site-packages/ipykernel_launcher.py:7: RuntimeWarning: overflow encountered in exp\n",
      "  import sys\n",
      "/Users/alexandrema/anaconda3/lib/python3.6/site-packages/ipykernel_launcher.py:11: RuntimeWarning: overflow encountered in exp\n",
      "  # This is added back by InteractiveShellApp.init_path()\n",
      "/Users/alexandrema/anaconda3/lib/python3.6/site-packages/ipykernel_launcher.py:14: RuntimeWarning: overflow encountered in exp\n",
      "  \n",
      "/Users/alexandrema/anaconda3/lib/python3.6/site-packages/ipykernel_launcher.py:19: RuntimeWarning: overflow encountered in exp\n",
      "/Users/alexandrema/anaconda3/lib/python3.6/site-packages/ipykernel_launcher.py:21: RuntimeWarning: invalid value encountered in double_scalars\n",
      "/Users/alexandrema/anaconda3/lib/python3.6/site-packages/ipykernel_launcher.py:23: RuntimeWarning: invalid value encountered in double_scalars\n",
      "/Users/alexandrema/anaconda3/lib/python3.6/site-packages/ipykernel_launcher.py:26: RuntimeWarning: invalid value encountered in true_divide\n"
     ]
    }
   ],
   "source": [
    "rho = 1.0 / X.shape[0]\n",
    "epsilon = 10e-10\n",
    "w0 = 0.3\n",
    "w = 0.3 * np.ones(X.shape[1])\n",
    "\n",
    "val, w_, k = newton(objective_function, w0, w, X, y, rho, epsilon)"
   ]
  },
  {
   "cell_type": "markdown",
   "metadata": {},
   "source": [
    "## Question 1.5"
   ]
  },
  {
   "cell_type": "code",
   "execution_count": 86,
   "metadata": {
    "collapsed": true
   },
   "outputs": [],
   "source": [
    "def func(w_):\n",
    "    w0 = w_[0]\n",
    "    w = w_[1:]\n",
    "    val, grad, hessian = objective_function(w0, w, X, y, rho)\n",
    "    return val\n",
    "\n",
    "\n",
    "def armijo(w_, func, grad, hessi_grad, a, b):\n",
    "    k = 1.0\n",
    "    beta = 0.5\n",
    "    gamma = b * (a**k)\n",
    "\n",
    "    while (func(w_ - gamma * hessi_grad) > func(w_) - beta * gamma * np.sum(grad * hessi_grad)):\n",
    "        k = k + 1.0\n",
    "        gamma = b * (a**k)\n",
    "\n",
    "    return gamma"
   ]
  },
  {
   "cell_type": "markdown",
   "metadata": {},
   "source": [
    "#### The parameters of Armijo function are $a = 0.9, b = 2\\gamma_{k-1}, \\beta = 0.5$</p>"
   ]
  },
  {
   "cell_type": "code",
   "execution_count": 87,
   "metadata": {
    "collapsed": true
   },
   "outputs": [],
   "source": [
    "def newton_linear_search(objective_function, w0, w, X, y, rho, epsilon, numMax):\n",
    "\n",
    "    val, grad, hessian = objective_function(w0, w, X, y, rho)\n",
    "    norm = np.linalg.norm(grad[1:])\n",
    "    k = 0.0\n",
    "    a = 0.9\n",
    "    gamma = 1.0\n",
    "    array_norm = [norm]  # array of norm\n",
    "    hessi_grad = np.linalg.solve(hessian, grad)\n",
    "\n",
    "    while(norm > epsilon and k < numMax):\n",
    "\n",
    "        gamma = armijo(np.append(w0, w), func, grad, hessi_grad, a, 2 * gamma)\n",
    "        l = np.append(w0, w) - gamma * hessi_grad\n",
    "        w0 = l[0]\n",
    "        w = l[1:]\n",
    "\n",
    "        val, grad, hessian = objective_function(w0, w, X, y, rho)\n",
    "        hessi_grad = np.linalg.solve(hessian, grad)\n",
    "\n",
    "        norm = np.linalg.norm(grad[1:])\n",
    "        array_norm.append(norm)\n",
    "        k = k + 1\n",
    "\n",
    "    return val, np.append(w0, w), array_norm, k"
   ]
  },
  {
   "cell_type": "code",
   "execution_count": 94,
   "metadata": {},
   "outputs": [
    {
     "name": "stdout",
     "output_type": "stream",
     "text": [
      "The value minimal of the objective function : 0.53001887163\n",
      "The variable minimal of the objective function : \n",
      " [ 0.67731198  0.28526576 -0.24554742  5.61365006  0.98886789 -1.82791918\n",
      " -2.55695256 -1.58747255  0.43396361  0.48515529 -0.40441764  0.17280405\n",
      " -0.57564945  0.43832626 -0.62435827  1.25356179  0.72621093 -0.00607139\n",
      " -0.1490878  -0.09505212]\n",
      "Times of iterations:  9.0\n",
      "Time used :  4.929593801498413\n"
     ]
    }
   ],
   "source": [
    "#Inicialization of the parameters\n",
    "rho = 1.0 / X.shape[0]\n",
    "epsilon = 10e-10\n",
    "w0 = 0.3\n",
    "w = 0.3 * np.ones(X.shape[1])\n",
    "\n",
    "\n",
    "# Using the Newton's method with linear search\n",
    "time1 = time.time()\n",
    "val, w_, array_norm, k = newton_linear_search(objective_function, w0, w, X, y, rho, epsilon, 30)\n",
    "time2 = time.time()\n",
    "\n",
    "print(\"The value minimal of the objective function :\",val)\n",
    "print(\"The variable minimal of the objective function : \\n\",w_)\n",
    "print(\"Times of iterations: \", k)\n",
    "print(\"Time used : \", (time2 - time1))"
   ]
  },
  {
   "cell_type": "code",
   "execution_count": 89,
   "metadata": {},
   "outputs": [
    {
     "data": {
      "image/png": "[encoded data removed]",
      "text/plain": [
       "<matplotlib.figure.Figure at 0x11301cba8>"
      ]
     },
     "metadata": {},
     "output_type": "display_data"
    }
   ],
   "source": [
    "fig = plt.figure(2)\n",
    "plt.semilogy(array_norm)\n",
    "plt.show()"
   ]
  },
  {
   "cell_type": "markdown",
   "metadata": {},
   "source": [
    "## Question 2.1"
   ]
  },
  {
   "cell_type": "markdown",
   "metadata": {},
   "source": [
    "#### We can't use the Newton Method, because the objective function is not differentiable."
   ]
  },
  {
   "cell_type": "markdown",
   "metadata": {},
   "source": [
    "## Question 2.2"
   ]
  },
  {
   "cell_type": "markdown",
   "metadata": {
    "collapsed": true
   },
   "source": [
    "## Question 2.3"
   ]
  },
  {
   "cell_type": "code",
   "execution_count": 38,
   "metadata": {
    "collapsed": true
   },
   "outputs": [],
   "source": [
    "def f2(w,X,y):\n",
    "    z = [np.dot(X[i], w) for i in range(n)]\n",
    "    summand = [log(1+exp(-y[i]*z[i])) for i in range(n)]\n",
    "    return 1.0/n*sum(summand)\n",
    "\n",
    "def grad2(w,X,y):\n",
    "    z = [np.dot(X[i], w) for i in range(n)]\n",
    "    summand = [-y[i]/(1+exp(y[i]*z[i]))*X[i].T for i in range(n)]\n",
    "    return np.ravel(1.0/n * sum(summand))\n",
    "\n",
    "def g2(w,rho):\n",
    "    return rho * np.linalg.norm(w,ord=1)\n",
    "\n",
    "def F2(w,X,y,rho):\n",
    "    return f2(w,X,y) + g2(w,rho)\n",
    "\n",
    "def objective_total2(w, X, y, rho):\n",
    "    return f2(w,X,y), grad2(w,X,y),F2(w,X,y,rho)"
   ]
  },
  {
   "cell_type": "code",
   "execution_count": 42,
   "metadata": {},
   "outputs": [],
   "source": [
    "def softThred(w,rho):\n",
    "    sw = np.zeros_like(w)\n",
    "    sw[w > rho] = w[w > rho] - rho\n",
    "    sw[w < -rho] = w[w < -rho] + rho\n",
    "    sw[0] = w[0]\n",
    "    return sw\n",
    "\n",
    "def proximal(g, w0, X, y, rho, tolerance = 1e-10, max_iter = 1e2):\n",
    "    a,b = 0.5,1\n",
    "    1\n",
    "    val, grad, valF= g(w0, X, y, rho)\n",
    "    diff = tolerance + 1\n",
    "    k = 0\n",
    "    while((diff > tolerance) and (k <= max_iter)):\n",
    "        gamma = b\n",
    "        wk = softThred(w0 - gamma*grad, gamma*rho)\n",
    "        valk, gradk, valFk = g(wk, X, y, rho)\n",
    "        while(valk > val+np.sum(grad*(wk - w0)) + np.sum((w0 - wk)**2)/(2*gamma)):\n",
    "            gamma = gamma * a\n",
    "            wk = softThred(w0 - gamma*grad, gamma*rho)\n",
    "            valk, gradk, valFk = g(wk, X, y, rho)\n",
    "        diff = valF - valFk\n",
    "        w0 = wk\n",
    "        val, grad, valF = g(w0, X, y, rho)\n",
    "        b = 2 * gamma\n",
    "        k = k + 1    \n",
    "    return valF, w0, k\n"
   ]
  },
  {
   "cell_type": "code",
   "execution_count": 41,
   "metadata": {},
   "outputs": [
    {
     "name": "stdout",
     "output_type": "stream",
     "text": [
      "8 Iterations done in 0.3078184127807617 seconds.\n",
      "Results: \n",
      "0.699475942399\n",
      "[ 0.12517042  0.          0.          0.18774642  0.          0.          0.\n",
      "  0.          0.          0.          0.          0.          0.          0.\n",
      "  0.          0.          0.          0.          0.          0.        ]\n"
     ]
    }
   ],
   "source": [
    "rho = 0.1\n",
    "time1 = time.time()\n",
    "w = 0.5*np.ones_like(X_[0])\n",
    "val, sol_l1, k = proximal(objective_total2, w, X_, y, rho, 1e-10)\n",
    "time2 = time.time()\n",
    "\n",
    "print(\"{} Iterations done in {} seconds.\".format(k,time2-time1))\n",
    "print(\"Results: \")\n",
    "print(val)\n",
    "print(sol_l1)"
   ]
  },
  {
   "cell_type": "markdown",
   "metadata": {},
   "source": [
    "## Question 3.1"
   ]
  },
  {
   "cell_type": "markdown",
   "metadata": {},
   "source": [
    "#### Properties of the two problems:\n",
    "\n",
    "While both objective functions are convex, it is also differentiable in the first problem, while this isn't the case in the second problem.\n",
    "\n",
    "Newton's method converges fast if the initial values are in the convergence zone. Generally, the L2 Norm is \n",
    "\n"
   ]
  },
  {
   "cell_type": "markdown",
   "metadata": {},
   "source": [
    "## Question 3.2"
   ]
  },
  {
   "cell_type": "markdown",
   "metadata": {},
   "source": [
    "#### Ridge vs. Lasso:\n",
    "\n",
    "Lasso regularizaton favors a sparse representation, i.e. tends to set predictors to zero.\n",
    "Ridge regression does not show this behavior."
   ]
  },
  {
   "cell_type": "code",
   "execution_count": 29,
   "metadata": {
    "collapsed": true
   },
   "outputs": [],
   "source": []
  },
  {
   "cell_type": "code",
   "execution_count": null,
   "metadata": {
    "collapsed": true
   },
   "outputs": [],
   "source": []
  },
  {
   "cell_type": "code",
   "execution_count": null,
   "metadata": {
    "collapsed": true
   },
   "outputs": [],
   "source": []
  },
  {
   "cell_type": "code",
   "execution_count": null,
   "metadata": {
    "collapsed": true
   },
   "outputs": [],
   "source": []
  },
  {
   "cell_type": "code",
   "execution_count": null,
   "metadata": {
    "collapsed": true
   },
   "outputs": [],
   "source": []
  },
  {
   "cell_type": "code",
   "execution_count": null,
   "metadata": {
    "collapsed": true
   },
   "outputs": [],
   "source": []
  },
  {
   "cell_type": "code",
   "execution_count": null,
   "metadata": {
    "collapsed": true
   },
   "outputs": [],
   "source": []
  },
  {
   "cell_type": "code",
   "execution_count": null,
   "metadata": {
    "collapsed": true
   },
   "outputs": [],
   "source": []
  },
  {
   "cell_type": "code",
   "execution_count": null,
   "metadata": {
    "collapsed": true
   },
   "outputs": [],
   "source": []
  },
  {
   "cell_type": "code",
   "execution_count": null,
   "metadata": {
    "collapsed": true
   },
   "outputs": [],
   "source": []
  },
  {
   "cell_type": "code",
   "execution_count": null,
   "metadata": {
    "collapsed": true
   },
   "outputs": [],
   "source": []
  },
  {
   "cell_type": "code",
   "execution_count": null,
   "metadata": {
    "collapsed": true
   },
   "outputs": [],
   "source": []
  },
  {
   "cell_type": "code",
   "execution_count": null,
   "metadata": {
    "collapsed": true
   },
   "outputs": [],
   "source": []
  },
  {
   "cell_type": "code",
   "execution_count": null,
   "metadata": {
    "collapsed": true
   },
   "outputs": [],
   "source": []
  },
  {
   "cell_type": "code",
   "execution_count": null,
   "metadata": {
    "collapsed": true
   },
   "outputs": [],
   "source": []
  }
 ],
 "metadata": {
  "kernelspec": {
   "display_name": "Python [default]",
   "language": "python",
   "name": "python3"
  },
  "language_info": {
   "codemirror_mode": {
    "name": "ipython",
    "version": 3
   },
   "file_extension": ".py",
   "mimetype": "text/x-python",
   "name": "python",
   "nbconvert_exporter": "python",
   "pygments_lexer": "ipython3",
   "version": "3.5.2"
  }
 },
 "nbformat": 4,
 "nbformat_minor": 2
}
