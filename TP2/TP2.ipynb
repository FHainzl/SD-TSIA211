{
 "cells": [
  {
   "cell_type": "code",
   "execution_count": 1,
   "metadata": {
    "collapsed": true
   },
   "outputs": [],
   "source": [
    "from numpy import log, exp, sqrt\n",
    "from scipy import linalg\n",
    "import numpy as np\n",
    "from scipy.optimize import check_grad"
   ]
  },
  {
   "cell_type": "code",
   "execution_count": 2,
   "metadata": {
    "collapsed": true
   },
   "outputs": [],
   "source": [
    "# Prepare Data\n",
    "from diabeticRetinopathyUtils import load_diabetic_retinopathy\n",
    "X, y = load_diabetic_retinopathy(filename=\"diabeticRetinopathy.csv\")\n"
   ]
  },
  {
   "cell_type": "markdown",
   "metadata": {},
   "source": [
    "## Q1.1"
   ]
  },
  {
   "cell_type": "markdown",
   "metadata": {},
   "source": [
    "### Computing the value, gradient and hessian of the objective function $f$\n",
    "\n",
    "The goal is to find $ (w_0^*, w^*) = \\underset{w_0 \\in \\mathbb{R}, w \\in \\mathbb{R}^n}{arg min} f(w_0, w)$ where $$f(w_0, w) = \\frac{1}{n}\\sum_{i=1}^n{log\\left(1+ e^{-y_i\\left(X_i^Tw+w_0\\right)}\\right)} + \\frac{\\rho}{2}{\\|w\\|}^2_2$$\n",
    "\n",
    "\n",
    "The gradient will be :\n",
    "\n",
    "$$ \\nabla f(w_{0},w ) =\\big ( \\frac {\\partial f}{\\partial w_0} ,  \\frac {\\partial f}{\\partial w} \\big) = \\big( \\frac{1}{n}\\sum_{i=1}^{n}\\frac{-y_{i}}{1 + exp(y_{i}(X_{i}^T w + w_{0}))} , \\frac{1}{n}\\sum_{i=1}^{n}\\frac{-X_{i} y_{i}}{1 + exp(y_{i}(X_{i}^T w + w_{0}))} + \\rho w  \\big)   $$\n",
    "\n",
    "\n",
    "The Hessian matrix will be : \n",
    "\n",
    "\n",
    "Let $ z_{i} = X_{i}^T w +w_{0} $\n",
    "\n",
    "$$ \\frac {\\partial^2 f}{\\partial w_0 ^2} =  \\frac {1}{n} \\sum_{i=1}^{n} \\frac {exp(y_{i}z_{i})y_{i}^2}{( 1 + exp(y_{i}z_{i}))^2}  $$\n",
    "\n",
    "$$ \\frac {\\partial^2 f}{\\partial w_0 \\partial w} =  \\frac {1}{n} \\sum_{i=1}^{n} \\frac {X_{i}^{T} y_{i}^2 exp(y_{i}z_{i})}{( 1 + exp(y_{i}z_{i}))^2} $$\n",
    "\n",
    "$$ \\frac {\\partial^2 f}{\\partial w \\partial w_0} =  \\frac {1}{n} \\sum_{i=1}^{n} \\frac {X_{i} y_{i}^2 exp(y_{i}z_{i})}{( 1 + exp(y_{i}z_{i}))^2} $$\n",
    "\n",
    "$$ \\frac {\\partial^2 f}{\\partial w ^2} =  \\frac {1}{n} \\sum_{i=1}^{n} \\frac {X_{i}X_{i}^{T} y_{i}^2  exp(y_{i}z_{i})}{( 1 + exp(y_{i}z_{i}))^2}  + \\rho I$$\n",
    "\n",
    "$Hessian(f)$ =\n",
    "\\begin{pmatrix} \n",
    "\\frac {\\partial^2 f}{\\partial w_0 ^2} &  \\frac {\\partial^2 f}{\\partial w_0 \\partial w}\\\\\n",
    "\\frac {\\partial^2 f}{\\partial w \\partial w_0} & \\frac {\\partial^2 f}{\\partial w ^2} \n",
    "\\end{pmatrix}\n",
    "\n",
    "We can see that every element of the hessian matrix is positive, so we can say that the hessian matrix is positive and the objetive funtion is convex."
   ]
  },
  {
   "cell_type": "markdown",
   "metadata": {},
   "source": [
    "## Q1.2"
   ]
  },
  {
   "cell_type": "code",
   "execution_count": 3,
   "metadata": {
    "collapsed": true
   },
   "outputs": [],
   "source": [
    "rho = 1.0 / X.shape[0]\n",
    "w=np.ones(X.shape[1])\n"
   ]
  },
  {
   "cell_type": "code",
   "execution_count": 40,
   "metadata": {
    "collapsed": true
   },
   "outputs": [],
   "source": [
    "def f(w0, w, X, y, rho):\n",
    "    \"\"\"\n",
    "\n",
    "\n",
    "\n",
    "\n",
    "    \"\"\"\n",
    "    n, m = X.shape\n",
    "    z = [np.dot(X[i], w) + w0 for i in range(n)]\n",
    "\n",
    "    # VALUE\n",
    "    summands = [log(1 + exp(-y[i] * z[i])) for i in range(n)]\n",
    "    func = (1 / n) * sum(summands) + (rho / 2) * np.linalg.norm(w)**2\n",
    "\n",
    "    # GRADIENT\n",
    "    summands = [-y[i] / (1 + exp(y[i] * z[i])) for i in range(n)]\n",
    "    grad_w0 = (1 / n) * sum(summands)\n",
    "\n",
    "    summands = [-X[i] * y[i] / (1 + exp(y[i] * z[i])) for i in range(n)]\n",
    "    grad_w = (1 / n) * sum(summands) + rho * w\n",
    "\n",
    "    # HESSIAN\n",
    "\n",
    "    ex = [exp(y[i] * z[i]) for i in range(n)]\n",
    "\n",
    "    block0 = [ex[i] * y[i]**2 / (1 + ex[i])**2 for i in range(n)]\n",
    "\n",
    "    block1 = [X[i] * (ex[i] * y[i]**2 / (1 + ex[i])**2) for i in range(n)]\n",
    "\n",
    "    block2 = [np.outer(X[i], X[i]) * ex[i] * y[i]**2 /\n",
    "              (1 + ex[i])**2 for i in range(n)]\n",
    "\n",
    "    block0 = (1 / n) * sum(block0)\n",
    "\n",
    "    block1 = (1 / n) * sum(block1)\n",
    "\n",
    "    block2 = (1 / n) * sum(block2) + rho * np.eye(m)\n",
    "\n",
    "    hessian = np.block([\n",
    "        [block0,      block1.reshape(1, m)],\n",
    "        [block1.reshape(m, 1),  block2]\n",
    "    ])\n",
    "\n",
    "    return func, np.append(grad_w0, grad_w), hessian"
   ]
  },
  {
   "cell_type": "code",
   "execution_count": 41,
   "metadata": {
    "collapsed": true
   },
   "outputs": [],
   "source": [
    "def func(w_):\n",
    "    w0 = w_[0]\n",
    "    w = w_[1:]\n",
    "    val, grad, hessian = f(w0, w, X, y, rho)\n",
    "    return val\n",
    "\n",
    "\n",
    "def grad(w_):\n",
    "    w0 = w_[0]\n",
    "    w = w_[1:]\n",
    "    val, grad, hessian = f(w0, w, X, y, rho)\n",
    "    return grad"
   ]
  },
  {
   "cell_type": "code",
   "execution_count": 42,
   "metadata": {},
   "outputs": [
    {
     "name": "stdout",
     "output_type": "stream",
     "text": [
      "5.56968199646e-06\n"
     ]
    }
   ],
   "source": [
    "rho = 1.0 / X.shape[0]\n",
    "epsilon = 1e-10\n",
    "w0 = 0.0\n",
    "w = np.zeros(X.shape[1])\n",
    "\n",
    "print(check_grad(func, grad, np.append(w0, w)))"
   ]
  },
  {
   "cell_type": "markdown",
   "metadata": {},
   "source": [
    "## Q1.3"
   ]
  },
  {
   "cell_type": "code",
   "execution_count": 47,
   "metadata": {
    "collapsed": true
   },
   "outputs": [],
   "source": [
    "def Newton(f, w0, w, X, y, rho, epsilon):\n",
    "\n",
    "    val, grad, hessian = f(w0, w, X, y, rho)\n",
    "\n",
    "    norm = np.linalg.norm(grad[1:])\n",
    "    k = 0\n",
    "\n",
    "    while(norm > epsilon):\n",
    "        l = np.append(w0, w) - linalg.solve(hessian, grad)\n",
    "        w0 = l[0]\n",
    "        w = l[1:]\n",
    "\n",
    "        val, grad, hessian = f(w0, w, X, y, rho)\n",
    "\n",
    "        norm = np.linalg.norm(grad[1:])\n",
    "\n",
    "        k = k + 1\n",
    "\n",
    "    return val, np.append(w0,w), k"
   ]
  },
  {
   "cell_type": "code",
   "execution_count": 49,
   "metadata": {},
   "outputs": [],
   "source": [
    "rho = 1.0 / X.shape[0]\n",
    "epsilon=10e-10\n",
    "w0=0.0\n",
    "w=np.zeros(X.shape[1])\n",
    "\n",
    "val,w_,k=Newton(f, w0, w, X, y, rho, epsilon)\n"
   ]
  },
  {
   "cell_type": "markdown",
   "metadata": {
    "collapsed": true
   },
   "source": [
    "## Q1.4"
   ]
  },
  {
   "cell_type": "code",
   "execution_count": null,
   "metadata": {
    "collapsed": true
   },
   "outputs": [],
   "source": []
  },
  {
   "cell_type": "code",
   "execution_count": null,
   "metadata": {
    "collapsed": true
   },
   "outputs": [],
   "source": []
  },
  {
   "cell_type": "markdown",
   "metadata": {},
   "source": [
    "## Q1.5"
   ]
  },
  {
   "cell_type": "code",
   "execution_count": null,
   "metadata": {
    "collapsed": true
   },
   "outputs": [],
   "source": []
  },
  {
   "cell_type": "code",
   "execution_count": 64,
   "metadata": {
    "collapsed": true
   },
   "outputs": [],
   "source": []
  },
  {
   "cell_type": "code",
   "execution_count": null,
   "metadata": {
    "collapsed": true
   },
   "outputs": [],
   "source": []
  },
  {
   "cell_type": "code",
   "execution_count": null,
   "metadata": {
    "collapsed": true
   },
   "outputs": [],
   "source": []
  }
 ],
 "metadata": {
  "kernelspec": {
   "display_name": "Python 3",
   "language": "python",
   "name": "python3"
  },
  "language_info": {
   "codemirror_mode": {
    "name": "ipython",
    "version": 3
   },
   "file_extension": ".py",
   "mimetype": "text/x-python",
   "name": "python",
   "nbconvert_exporter": "python",
   "pygments_lexer": "ipython3",
   "version": "3.6.3"
  }
 },
 "nbformat": 4,
 "nbformat_minor": 2
}
