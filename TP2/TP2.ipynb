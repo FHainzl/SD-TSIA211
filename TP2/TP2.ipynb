{
 "cells": [
  {
   "cell_type": "code",
   "execution_count": 69,
   "metadata": {},
   "outputs": [],
   "source": [
    "from math import log, exp, sqrt\n",
    "import numpy as np"
   ]
  },
  {
   "cell_type": "code",
   "execution_count": 70,
   "metadata": {},
   "outputs": [],
   "source": [
    "## Prepare Data\n",
    "from diabeticRetinopathyUtils import load_diabetic_retinopathy\n",
    "X,y = load_diabetic_retinopathy(filename = \"diabeticRetinopathy.csv\")"
   ]
  },
  {
   "cell_type": "markdown",
   "metadata": {},
   "source": [
    "## Q1.2"
   ]
  },
  {
   "cell_type": "code",
   "execution_count": 86,
   "metadata": {},
   "outputs": [],
   "source": [
    "def f(w0,w,X,y):\n",
    "    n = range(X.shape[0])\n",
    "    rho = 1.0/X.shape[0]\n",
    "    z = [X[i].dot(w)+w0 for i in n]\n",
    "    \n",
    "    #VALUE\n",
    "    summands = [log(1+exp(-y[i]*z[i])) for i in n]\n",
    "    func = sum(summands) + rho/2*np.linalg.norm(w)**2\n",
    "        \n",
    "    #GRADIENT\n",
    "    summands = [-y[i]/(1+exp(y[i]*z[i])) for i in n]\n",
    "    grad_w0 = sum(summands)\n",
    "                        \n",
    "    summands = [-X[i]*y[i]/(1+exp(y[i]*z[i])) for i in n]  \n",
    "    grad_w = sum(summands) + rho*np.linalg.norm(w)\n",
    "    \n",
    "    #HESSIAN\n",
    "    # Prepare a*a^T where a = [1,X[i]]\n",
    "    a = [np.insert(X[i],0,1) for i in n]\n",
    "    ex = [exp(y[i]*z[i]) for i in n]\n",
    "    # Prepare a matrix with zeros in the first row and colomn, rho else\n",
    "    sqrt_rho = sqrt(rho)*np.ones(19)\n",
    "    sqrt_rho = np.insert(sqrt_rho,0,0)\n",
    "    rho_matrix = np.outer(sqrt_rho,sqrt_rho)\n",
    "    \n",
    "    summands = [np.outer(a[i],a[i])*ex[i]*(y[i]/(1+ex[i])**2) for i in n]\n",
    "    hessian = sum(summands) + rho_matrix\n",
    "    \n",
    "    return func,[grad_w0,grad_w],hessian\n",
    "    \n",
    "if False:\n",
    "    w = np.random.randn(19)\n",
    "    f(0,w,X,y)\n",
    "    \n",
    "    \n",
    "#TODO check_gradient\n",
    "    \n",
    "    \n",
    "    "
   ]
  },
  {
   "cell_type": "markdown",
   "metadata": {},
   "source": [
    "## Q1.3"
   ]
  },
  {
   "cell_type": "code",
   "execution_count": null,
   "metadata": {
    "collapsed": true
   },
   "outputs": [],
   "source": [
    "def Newton(f,w0=0,w=0,X=X,y=y):\n",
    "    "
   ]
  },
  {
   "cell_type": "code",
   "execution_count": null,
   "metadata": {
    "collapsed": true
   },
   "outputs": [],
   "source": []
  }
 ],
 "metadata": {
  "kernelspec": {
   "display_name": "Python [default]",
   "language": "python",
   "name": "python3"
  },
  "language_info": {
   "codemirror_mode": {
    "name": "ipython",
    "version": 3
   },
   "file_extension": ".py",
   "mimetype": "text/x-python",
   "name": "python",
   "nbconvert_exporter": "python",
   "pygments_lexer": "ipython3",
   "version": "3.5.2"
  }
 },
 "nbformat": 4,
 "nbformat_minor": 2
}
