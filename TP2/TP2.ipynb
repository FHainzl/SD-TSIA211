{
 "cells": [
  {
   "cell_type": "code",
   "execution_count": 1,
   "metadata": {
    "collapsed": true
   },
   "outputs": [],
   "source": [
    "from numpy import log, exp, sqrt\n",
    "from scipy import linalg\n",
    "import numpy as np\n",
    "from scipy.optimize import check_grad"
   ]
  },
  {
   "cell_type": "code",
   "execution_count": 2,
   "metadata": {
    "collapsed": true
   },
   "outputs": [],
   "source": [
    "# Prepare Data\n",
    "from diabeticRetinopathyUtils import load_diabetic_retinopathy\n",
    "X, y = load_diabetic_retinopathy(filename=\"diabeticRetinopathy.csv\")\n"
   ]
  },
  {
   "cell_type": "markdown",
   "metadata": {},
   "source": [
    "## Question1.1"
   ]
  },
  {
   "cell_type": "markdown",
   "metadata": {},
   "source": [
    "### Computing the value, gradient and hessian of the objective function $f$\n",
    "\n",
    "The goal is to find $ (w_0^*, w^*) = \\underset{w_0 \\in \\mathbb{R}, w \\in \\mathbb{R}^n}{arg min} f(w_0, w)$ where $$f(w_0, w) = \\frac{1}{n}\\sum_{i=1}^n{log\\left(1+ e^{-y_i\\left(X_i^Tw+w_0\\right)}\\right)} + \\frac{\\rho}{2}{\\|w\\|}^2_2$$\n",
    "\n",
    "\n",
    "The gradient will be :\n",
    "\n",
    "$$ \\nabla f(w_{0},w ) =\\big ( \\frac {\\partial f}{\\partial w_0} ,  \\frac {\\partial f}{\\partial w} \\big) = \\big( \\frac{1}{n}\\sum_{i=1}^{n}\\frac{-y_{i}}{1 + exp(y_{i}(X_{i}^T w + w_{0}))} , \\frac{1}{n}\\sum_{i=1}^{n}\\frac{-X_{i} y_{i}}{1 + exp(y_{i}(X_{i}^T w + w_{0}))} + \\rho w  \\big)   $$\n",
    "\n",
    "\n",
    "The Hessian matrix will be : \n",
    "\n",
    "\n",
    "Let $ z_{i} = X_{i}^T w +w_{0} $\n",
    "\n",
    "$$ \\frac {\\partial^2 f}{\\partial w_0 ^2} =  \\frac {1}{n} \\sum_{i=1}^{n} \\frac {exp(y_{i}z_{i})y_{i}^2}{( 1 + exp(y_{i}z_{i}))^2}  $$\n",
    "\n",
    "$$ \\frac {\\partial^2 f}{\\partial w_0 \\partial w} =  \\frac {1}{n} \\sum_{i=1}^{n} \\frac {X_{i}^{T} y_{i}^2 exp(y_{i}z_{i})}{( 1 + exp(y_{i}z_{i}))^2} $$\n",
    "\n",
    "$$ \\frac {\\partial^2 f}{\\partial w \\partial w_0} =  \\frac {1}{n} \\sum_{i=1}^{n} \\frac {X_{i} y_{i}^2 exp(y_{i}z_{i})}{( 1 + exp(y_{i}z_{i}))^2} $$\n",
    "\n",
    "$$ \\frac {\\partial^2 f}{\\partial w ^2} =  \\frac {1}{n} \\sum_{i=1}^{n} \\frac {X_{i}X_{i}^{T} y_{i}^2  exp(y_{i}z_{i})}{( 1 + exp(y_{i}z_{i}))^2}  + \\rho I$$\n",
    "\n",
    "$Hessian(f)$ =\n",
    "\\begin{pmatrix} \n",
    "\\frac {\\partial^2 f}{\\partial w_0 ^2} &  \\frac {\\partial^2 f}{\\partial w_0 \\partial w}\\\\\n",
    "\\frac {\\partial^2 f}{\\partial w \\partial w_0} & \\frac {\\partial^2 f}{\\partial w ^2} \n",
    "\\end{pmatrix}\n",
    "\n",
    "We can see that every element of the hessian matrix is positive, so we can say that the hessian matrix is positive and the objetive funtion is convex."
   ]
  },
  {
   "cell_type": "markdown",
   "metadata": {},
   "source": [
    "## Question1.2"
   ]
  },
  {
   "cell_type": "code",
   "execution_count": 3,
   "metadata": {
    "collapsed": true
   },
   "outputs": [],
   "source": [
    "rho = 1.0 / X.shape[0]\n",
    "w=np.ones(X.shape[1])\n"
   ]
  },
  {
   "cell_type": "code",
   "execution_count": 4,
   "metadata": {
    "collapsed": true
   },
   "outputs": [],
   "source": [
    "def f(w0, w, X, y, rho):\n",
    "    \"\"\"\n",
    "\n",
    "\n",
    "\n",
    "\n",
    "    \"\"\"\n",
    "    n, m = X.shape\n",
    "    z = [np.dot(X[i], w) + w0 for i in range(n)]\n",
    "\n",
    "    # VALUE\n",
    "    summands = [log(1 + exp(-y[i] * z[i])) for i in range(n)]\n",
    "    func = (1 / n) * sum(summands) + (rho / 2) * np.linalg.norm(w)**2\n",
    "\n",
    "    # GRADIENT\n",
    "    summands = [-y[i] / (1 + exp(y[i] * z[i])) for i in range(n)]\n",
    "    grad_w0 = (1 / n) * sum(summands)\n",
    "\n",
    "    summands = [-X[i] * y[i] / (1 + exp(y[i] * z[i])) for i in range(n)]\n",
    "    grad_w = (1 / n) * sum(summands) + rho * w\n",
    "\n",
    "    # HESSIAN\n",
    "\n",
    "    ex = [exp(y[i] * z[i]) for i in range(n)]\n",
    "\n",
    "    block0 = [ex[i] * y[i]**2 / (1 + ex[i])**2 for i in range(n)]\n",
    "\n",
    "    block1 = [X[i] * (ex[i] * y[i]**2 / (1 + ex[i])**2) for i in range(n)]\n",
    "\n",
    "    block2 = [np.outer(X[i], X[i]) * ex[i] * y[i]**2 /\n",
    "              (1 + ex[i])**2 for i in range(n)]\n",
    "\n",
    "    block0 = (1 / n) * sum(block0)\n",
    "\n",
    "    block1 = (1 / n) * sum(block1)\n",
    "\n",
    "    block2 = (1 / n) * sum(block2) + rho * np.eye(m)\n",
    "\n",
    "    hessian = np.block([\n",
    "        [block0,      block1.reshape(1, m)],\n",
    "        [block1.reshape(m, 1),  block2]\n",
    "    ])\n",
    "\n",
    "    return func, np.append(grad_w0, grad_w), hessian"
   ]
  },
  {
   "cell_type": "code",
   "execution_count": 5,
   "metadata": {
    "collapsed": true
   },
   "outputs": [],
   "source": [
    "def func(w_):\n",
    "    w0 = w_[0]\n",
    "    w = w_[1:]\n",
    "    val, grad, hessian = f(w0, w, X, y, rho)\n",
    "    return val\n",
    "\n",
    "\n",
    "def grad(w_):\n",
    "    w0 = w_[0]\n",
    "    w = w_[1:]\n",
    "    val, grad, hessian = f(w0, w, X, y, rho)\n",
    "    return grad"
   ]
  },
  {
   "cell_type": "code",
   "execution_count": 6,
   "metadata": {},
   "outputs": [
    {
     "name": "stdout",
     "output_type": "stream",
     "text": [
      "5.56968199646e-06\n"
     ]
    }
   ],
   "source": [
    "rho = 1.0 / X.shape[0]\n",
    "epsilon = 1e-10\n",
    "w0 = 0.0\n",
    "w = np.zeros(X.shape[1])\n",
    "\n",
    "print(check_grad(func, grad, np.append(w0, w)))"
   ]
  },
  {
   "cell_type": "markdown",
   "metadata": {},
   "source": [
    "## Question1.3"
   ]
  },
  {
   "cell_type": "code",
   "execution_count": 7,
   "metadata": {
    "collapsed": true
   },
   "outputs": [],
   "source": [
    "def Newton(f, w0, w, X, y, rho, epsilon):\n",
    "\n",
    "    val, grad, hessian = f(w0, w, X, y, rho)\n",
    "\n",
    "    norm = np.linalg.norm(grad[1:])\n",
    "    k = 0\n",
    "\n",
    "    while(norm > epsilon):\n",
    "        l = np.append(w0, w) - np.linalg.solve(hessian, grad)\n",
    "        w0 = l[0]\n",
    "        w = l[1:]\n",
    "\n",
    "        val, grad, hessian = f(w0, w, X, y, rho)\n",
    "\n",
    "        norm = np.linalg.norm(grad[1:])\n",
    "\n",
    "        k = k + 1\n",
    "\n",
    "    return val, np.append(w0,w), k"
   ]
  },
  {
   "cell_type": "code",
   "execution_count": 8,
   "metadata": {},
   "outputs": [
    {
     "data": {
      "text/plain": [
       "array([ 0.67731198,  0.28526576, -0.24554742,  5.61365006,  0.9888679 ,\n",
       "       -1.82791918, -2.55695256, -1.58747255,  0.43396361,  0.48515529,\n",
       "       -0.40441764,  0.17280405, -0.57564945,  0.43832626, -0.62435831,\n",
       "        1.25356177,  0.72621094, -0.00607139, -0.1490878 , -0.09505212])"
      ]
     },
     "execution_count": 8,
     "metadata": {},
     "output_type": "execute_result"
    }
   ],
   "source": [
    "rho = 1.0 / X.shape[0]\n",
    "epsilon=10e-10\n",
    "w0=0.0\n",
    "w=np.zeros(X.shape[1])\n",
    "\n",
    "val,w_,k=Newton(f, w0, w, X, y, rho, epsilon)\n",
    "\n",
    "w_\n"
   ]
  },
  {
   "cell_type": "markdown",
   "metadata": {
    "collapsed": true
   },
   "source": [
    "## Question1.4"
   ]
  },
  {
   "cell_type": "code",
   "execution_count": 29,
   "metadata": {},
   "outputs": [
    {
     "name": "stderr",
     "output_type": "stream",
     "text": [
      "/Users/alexandrema/anaconda3/lib/python3.6/site-packages/ipykernel_launcher.py:26: RuntimeWarning: overflow encountered in double_scalars\n",
      "/Users/alexandrema/anaconda3/lib/python3.6/site-packages/ipykernel_launcher.py:28: RuntimeWarning: overflow encountered in double_scalars\n",
      "/Users/alexandrema/anaconda3/lib/python3.6/site-packages/ipykernel_launcher.py:31: RuntimeWarning: overflow encountered in double_scalars\n",
      "/Users/alexandrema/anaconda3/lib/python3.6/site-packages/ipykernel_launcher.py:12: RuntimeWarning: overflow encountered in exp\n",
      "  if sys.path[0] == '':\n",
      "/Users/alexandrema/anaconda3/lib/python3.6/site-packages/ipykernel_launcher.py:16: RuntimeWarning: overflow encountered in exp\n",
      "  app.launch_new_instance()\n",
      "/Users/alexandrema/anaconda3/lib/python3.6/site-packages/ipykernel_launcher.py:19: RuntimeWarning: overflow encountered in exp\n",
      "/Users/alexandrema/anaconda3/lib/python3.6/site-packages/ipykernel_launcher.py:24: RuntimeWarning: overflow encountered in exp\n",
      "/Users/alexandrema/anaconda3/lib/python3.6/site-packages/ipykernel_launcher.py:26: RuntimeWarning: invalid value encountered in double_scalars\n",
      "/Users/alexandrema/anaconda3/lib/python3.6/site-packages/ipykernel_launcher.py:28: RuntimeWarning: invalid value encountered in double_scalars\n",
      "/Users/alexandrema/anaconda3/lib/python3.6/site-packages/ipykernel_launcher.py:31: RuntimeWarning: invalid value encountered in true_divide\n"
     ]
    }
   ],
   "source": [
    "rho = 1.0 / X.shape[0]\n",
    "epsilon=10e-10\n",
    "w0=0.3\n",
    "w=0.3*np.ones(X.shape[1])\n",
    "\n",
    "val,w_,k=Newton(f, w0, w, X, y, rho, epsilon)"
   ]
  },
  {
   "cell_type": "markdown",
   "metadata": {
    "collapsed": true
   },
   "source": [
    "####  The Problem of overflow !!"
   ]
  },
  {
   "cell_type": "markdown",
   "metadata": {},
   "source": [
    "## Question1.5"
   ]
  },
  {
   "cell_type": "code",
   "execution_count": 38,
   "metadata": {
    "collapsed": true
   },
   "outputs": [],
   "source": [
    "def func(w_):\n",
    "    w0 = w_[0]\n",
    "    w = w_[1:]\n",
    "    val, grad, hessian = f(w0, w, X, y, rho)\n",
    "    return val\n",
    "\n",
    "\n",
    "def armijo(w_,func,grad,hessi_grad,a,b):\n",
    "    \n",
    "    \"\"\"\n",
    "    Search for the next step according Armijo condition\n",
    "    \n",
    "    Input:\n",
    "   \n",
    "    func= the objective function\n",
    "    grad = the gradient of objective function\n",
    "    hessian =\n",
    "    a = \n",
    "    b = \n",
    "    \n",
    "    Output:\n",
    "    \n",
    "    the value of step\n",
    "   \n",
    "    \"\"\"\n",
    "    k=1.0\n",
    "    beta =0.5\n",
    "    gamma =b*(a**k)\n",
    "    \n",
    "    \n",
    "    while ( func(w_ - gamma*hessi_grad) > func(w_) -beta*gamma*np.sum(grad*hessi_grad) ):\n",
    "        k=k+1.0\n",
    "        gamma= b*(a**k)\n",
    "    \n",
    "            \n",
    "    return gamma"
   ]
  },
  {
   "cell_type": "code",
   "execution_count": 48,
   "metadata": {},
   "outputs": [],
   "source": [
    "def NewtonLinearSearch(f, w0, w, X, y, rho, epsilon,numMax):\n",
    "\n",
    "    val, grad, hessian = f(w0, w, X, y, rho)\n",
    "\n",
    "    norm = np.linalg.norm(grad[1:])\n",
    "    k = 0.0 \n",
    "    a = 0.5\n",
    "    gamma = 1.0\n",
    "\n",
    "    \n",
    "    hessi_grad=np.linalg.solve(hessian, grad)\n",
    "    \n",
    "    while(norm > epsilon and k<numMax):\n",
    "        \n",
    "        gamma = armijo(np.append(w0, w),func,grad, hessi_grad,a,2*gamma)\n",
    "        l = np.append(w0, w) - gamma*hessi_grad\n",
    "        w0 = l[0]\n",
    "        w = l[1:]\n",
    "\n",
    "        val, grad, hessian = f(w0, w, X, y, rho)\n",
    "        hessi_grad =np.linalg.solve(hessian, grad)\n",
    "        \n",
    "        norm = np.linalg.norm(grad[1:])\n",
    "    \n",
    "        k = k + 1\n",
    "\n",
    "    return val, np.append(w0,w), k"
   ]
  },
  {
   "cell_type": "code",
   "execution_count": 49,
   "metadata": {},
   "outputs": [],
   "source": [
    "rho = 1.0 / X.shape[0]\n",
    "epsilon=10e-10\n",
    "w0=0.3\n",
    "w=0.3*np.ones(X.shape[1])\n",
    "\n",
    "val,w_,k=NewtonLinearSearch(f, w0, w, X, y, rho, epsilon,30)"
   ]
  },
  {
   "cell_type": "code",
   "execution_count": 50,
   "metadata": {},
   "outputs": [
    {
     "data": {
      "text/plain": [
       "array([ 0.67731193,  0.28526576, -0.24554742,  5.6136499 ,  0.98886785,\n",
       "       -1.82791914, -2.55695248, -1.58747249,  0.4339636 ,  0.48515529,\n",
       "       -0.40441763,  0.17280406, -0.57564946,  0.43832627, -0.62435828,\n",
       "        1.25356167,  0.72621087, -0.00607139, -0.1490878 , -0.09505212])"
      ]
     },
     "execution_count": 50,
     "metadata": {},
     "output_type": "execute_result"
    }
   ],
   "source": [
    "w_"
   ]
  }
 ],
 "metadata": {
  "kernelspec": {
   "display_name": "Python 3",
   "language": "python",
   "name": "python3"
  },
  "language_info": {
   "codemirror_mode": {
    "name": "ipython",
    "version": 3
   },
   "file_extension": ".py",
   "mimetype": "text/x-python",
   "name": "python",
   "nbconvert_exporter": "python",
   "pygments_lexer": "ipython3",
   "version": "3.6.3"
  }
 },
 "nbformat": 4,
 "nbformat_minor": 2
}
