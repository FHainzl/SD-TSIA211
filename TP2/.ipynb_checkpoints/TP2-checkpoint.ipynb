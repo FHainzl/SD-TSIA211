{
 "cells": [
  {
   "cell_type": "code",
   "execution_count": 1,
   "metadata": {
    "collapsed": true
   },
   "outputs": [],
   "source": [
    "from numpy import log, exp, sqrt\n",
    "from scipy import linalg\n",
    "import numpy as np\n",
    "from scipy.optimize import check_grad"
   ]
  },
  {
   "cell_type": "code",
   "execution_count": 2,
   "metadata": {
    "collapsed": true
   },
   "outputs": [],
   "source": [
    "# Prepare Data\n",
    "from diabeticRetinopathyUtils import load_diabetic_retinopathy\n",
    "X, y = load_diabetic_retinopathy(filename=\"diabeticRetinopathy.csv\")\n"
   ]
  },
  {
   "cell_type": "markdown",
   "metadata": {},
   "source": [
    "## Question1.1"
   ]
  },
  {
   "cell_type": "markdown",
   "metadata": {},
   "source": [
    "### Computing the value, gradient and hessian of the objective function $f$\n",
    "\n",
    "The goal is to find $ (w_0^*, w^*) = \\underset{w_0 \\in \\mathbb{R}, w \\in \\mathbb{R}^n}{arg min} f(w_0, w)$ where $$f(w_0, w) = \\frac{1}{n}\\sum_{i=1}^n{log\\left(1+ e^{-y_i\\left(X_i^Tw+w_0\\right)}\\right)} + \\frac{\\rho}{2}{\\|w\\|}^2_2$$\n",
    "\n",
    "\n",
    "The gradient will be :\n",
    "\n",
    "$$ \\nabla f(w_{0},w ) =\\big ( \\frac {\\partial f}{\\partial w_0} ,  \\frac {\\partial f}{\\partial w} \\big) = \\big( \\frac{1}{n}\\sum_{i=1}^{n}\\frac{-y_{i}}{1 + exp(y_{i}(X_{i}^T w + w_{0}))} , \\frac{1}{n}\\sum_{i=1}^{n}\\frac{-X_{i} y_{i}}{1 + exp(y_{i}(X_{i}^T w + w_{0}))} + \\rho w  \\big)   $$\n",
    "\n",
    "\n",
    "The Hessian matrix will be : \n",
    "\n",
    "\n",
    "Let $ z_{i} = X_{i}^T w +w_{0} $\n",
    "\n",
    "$$ \\frac {\\partial^2 f}{\\partial w_0 ^2} =  \\frac {1}{n} \\sum_{i=1}^{n} \\frac {exp(y_{i}z_{i})y_{i}^2}{( 1 + exp(y_{i}z_{i}))^2}  $$\n",
    "\n",
    "$$ \\frac {\\partial^2 f}{\\partial w_0 \\partial w} =  \\frac {1}{n} \\sum_{i=1}^{n} \\frac {X_{i}^{T} y_{i}^2 exp(y_{i}z_{i})}{( 1 + exp(y_{i}z_{i}))^2} $$\n",
    "\n",
    "$$ \\frac {\\partial^2 f}{\\partial w \\partial w_0} =  \\frac {1}{n} \\sum_{i=1}^{n} \\frac {X_{i} y_{i}^2 exp(y_{i}z_{i})}{( 1 + exp(y_{i}z_{i}))^2} $$\n",
    "\n",
    "$$ \\frac {\\partial^2 f}{\\partial w ^2} =  \\frac {1}{n} \\sum_{i=1}^{n} \\frac {X_{i}X_{i}^{T} y_{i}^2  exp(y_{i}z_{i})}{( 1 + exp(y_{i}z_{i}))^2}  + \\rho I$$\n",
    "\n",
    "$Hessian(f)$ =\n",
    "\\begin{pmatrix} \n",
    "\\frac {\\partial^2 f}{\\partial w_0 ^2} &  \\frac {\\partial^2 f}{\\partial w_0 \\partial w}\\\\\n",
    "\\frac {\\partial^2 f}{\\partial w \\partial w_0} & \\frac {\\partial^2 f}{\\partial w ^2} \n",
    "\\end{pmatrix}\n",
    "\n",
    "We can see that every element of the hessian matrix is positive, so we can say that the hessian matrix is positive and the objetive funtion is convex."
   ]
  },
  {
   "cell_type": "markdown",
   "metadata": {},
   "source": [
    "## Question1.2"
   ]
  },
  {
   "cell_type": "code",
   "execution_count": 54,
   "metadata": {
    "collapsed": true
   },
   "outputs": [],
   "source": [
    "rho = 1.0 / X.shape[0]\n",
    "w=np.ones(X.shape[1])\n"
   ]
  },
  {
   "cell_type": "code",
   "execution_count": 55,
   "metadata": {
    "collapsed": true
   },
   "outputs": [],
   "source": [
    "def f(w0, w, X, y, rho):\n",
    "    \"\"\"\n",
    "\n",
    "\n",
    "\n",
    "\n",
    "    \"\"\"\n",
    "    n, m = X.shape\n",
    "    z = [np.dot(X[i], w) + w0 for i in range(n)]\n",
    "\n",
    "    # VALUE\n",
    "    summands = [log(1 + exp(-y[i] * z[i])) for i in range(n)]\n",
    "    func = (1 / n) * sum(summands) + (rho / 2) * np.linalg.norm(w)**2\n",
    "\n",
    "    # GRADIENT\n",
    "    summands = [-y[i] / (1 + exp(y[i] * z[i])) for i in range(n)]\n",
    "    grad_w0 = (1 / n) * sum(summands)\n",
    "\n",
    "    summands = [-X[i] * y[i] / (1 + exp(y[i] * z[i])) for i in range(n)]\n",
    "    grad_w = (1 / n) * sum(summands) + rho * w\n",
    "\n",
    "    # HESSIAN\n",
    "\n",
    "    ex = [exp(y[i] * z[i]) for i in range(n)]\n",
    "\n",
    "    block0 = [ex[i] * y[i]**2 / (1 + ex[i])**2 for i in range(n)]\n",
    "\n",
    "    block1 = [X[i] * (ex[i] * y[i]**2 / (1 + ex[i])**2) for i in range(n)]\n",
    "\n",
    "    block2 = [np.outer(X[i], X[i]) * ex[i] * y[i]**2 /\n",
    "              (1 + ex[i])**2 for i in range(n)]\n",
    "\n",
    "    block0 = (1 / n) * sum(block0)\n",
    "\n",
    "    block1 = (1 / n) * sum(block1)\n",
    "\n",
    "    block2 = (1 / n) * sum(block2) + rho * np.eye(m)\n",
    "\n",
    "    hessian = np.block([\n",
    "        [block0,      block1.reshape(1, m)],\n",
    "        [block1.reshape(m, 1),  block2]\n",
    "    ])\n",
    "\n",
    "    return func, np.append(grad_w0, grad_w), hessian"
   ]
  },
  {
   "cell_type": "code",
   "execution_count": 56,
   "metadata": {
    "collapsed": true
   },
   "outputs": [],
   "source": [
    "def func(w_):\n",
    "    w0 = w_[0]\n",
    "    w = w_[1:]\n",
    "    val, grad, hessian = f(w0, w, X, y, rho)\n",
    "    return val\n",
    "\n",
    "\n",
    "def grad(w_):\n",
    "    w0 = w_[0]\n",
    "    w = w_[1:]\n",
    "    val, grad, hessian = f(w0, w, X, y, rho)\n",
    "    return grad"
   ]
  },
  {
   "cell_type": "code",
   "execution_count": 57,
   "metadata": {},
   "outputs": [
    {
     "name": "stdout",
     "output_type": "stream",
     "text": [
      "5.56968199646e-06\n"
     ]
    }
   ],
   "source": [
    "rho = 1.0 / X.shape[0]\n",
    "epsilon = 1e-10\n",
    "w0 = 0.0\n",
    "w = np.zeros(X.shape[1])\n",
    "\n",
    "print(check_grad(func, grad, np.append(w0, w)))"
   ]
  },
  {
   "cell_type": "markdown",
   "metadata": {},
   "source": [
    "## Question1.3"
   ]
  },
  {
   "cell_type": "code",
   "execution_count": 58,
   "metadata": {
    "collapsed": true
   },
   "outputs": [],
   "source": [
    "def Newton(f, w0, w, X, y, rho, epsilon):\n",
    "\n",
    "    val, grad, hessian = f(w0, w, X, y, rho)\n",
    "\n",
    "    norm = np.linalg.norm(grad[1:])\n",
    "    k = 0\n",
    "\n",
    "    while(norm > epsilon):\n",
    "        l = np.append(w0, w) - linalg.solve(hessian, grad)\n",
    "        w0 = l[0]\n",
    "        w = l[1:]\n",
    "\n",
    "        val, grad, hessian = f(w0, w, X, y, rho)\n",
    "\n",
    "        norm = np.linalg.norm(grad[1:])\n",
    "\n",
    "        k = k + 1\n",
    "\n",
    "    return val, np.append(w0,w), k"
   ]
  },
  {
   "cell_type": "code",
   "execution_count": 59,
   "metadata": {
    "collapsed": true
   },
   "outputs": [],
   "source": [
    "rho = 1.0 / X.shape[0]\n",
    "epsilon=10e-10\n",
    "w0=0.0\n",
    "w=np.zeros(X.shape[1])\n",
    "\n",
    "val,w_,k=Newton(f, w0, w, X, y, rho, epsilon)\n"
   ]
  },
  {
   "cell_type": "markdown",
   "metadata": {
    "collapsed": true
   },
   "source": [
    "## Question1.4"
   ]
  },
  {
   "cell_type": "code",
   "execution_count": 53,
   "metadata": {},
   "outputs": [
    {
     "name": "stderr",
     "output_type": "stream",
     "text": [
      "/Users/alexandrema/anaconda3/lib/python3.6/site-packages/ipykernel_launcher.py:26: RuntimeWarning: overflow encountered in double_scalars\n",
      "/Users/alexandrema/anaconda3/lib/python3.6/site-packages/ipykernel_launcher.py:28: RuntimeWarning: overflow encountered in double_scalars\n",
      "/Users/alexandrema/anaconda3/lib/python3.6/site-packages/ipykernel_launcher.py:30: RuntimeWarning: overflow encountered in double_scalars\n",
      "/Users/alexandrema/anaconda3/lib/python3.6/site-packages/ipykernel_launcher.py:12: RuntimeWarning: overflow encountered in exp\n",
      "  if sys.path[0] == '':\n",
      "/Users/alexandrema/anaconda3/lib/python3.6/site-packages/ipykernel_launcher.py:16: RuntimeWarning: overflow encountered in exp\n",
      "  app.launch_new_instance()\n",
      "/Users/alexandrema/anaconda3/lib/python3.6/site-packages/ipykernel_launcher.py:19: RuntimeWarning: overflow encountered in exp\n",
      "/Users/alexandrema/anaconda3/lib/python3.6/site-packages/ipykernel_launcher.py:24: RuntimeWarning: overflow encountered in exp\n",
      "/Users/alexandrema/anaconda3/lib/python3.6/site-packages/ipykernel_launcher.py:26: RuntimeWarning: invalid value encountered in double_scalars\n",
      "/Users/alexandrema/anaconda3/lib/python3.6/site-packages/ipykernel_launcher.py:28: RuntimeWarning: invalid value encountered in double_scalars\n",
      "/Users/alexandrema/anaconda3/lib/python3.6/site-packages/ipykernel_launcher.py:30: RuntimeWarning: invalid value encountered in true_divide\n"
     ]
    },
    {
     "ename": "ValueError",
     "evalue": "array must not contain infs or NaNs",
     "output_type": "error",
     "traceback": [
      "\u001b[0;31m---------------------------------------------------------------------------\u001b[0m",
      "\u001b[0;31mValueError\u001b[0m                                Traceback (most recent call last)",
      "\u001b[0;32m<ipython-input-53-a18bbdde867f>\u001b[0m in \u001b[0;36m<module>\u001b[0;34m()\u001b[0m\n\u001b[1;32m      4\u001b[0m \u001b[0mw\u001b[0m\u001b[0;34m=\u001b[0m\u001b[0;36m0.3\u001b[0m\u001b[0;34m*\u001b[0m\u001b[0mnp\u001b[0m\u001b[0;34m.\u001b[0m\u001b[0mones\u001b[0m\u001b[0;34m(\u001b[0m\u001b[0mX\u001b[0m\u001b[0;34m.\u001b[0m\u001b[0mshape\u001b[0m\u001b[0;34m[\u001b[0m\u001b[0;36m1\u001b[0m\u001b[0;34m]\u001b[0m\u001b[0;34m)\u001b[0m\u001b[0;34m\u001b[0m\u001b[0m\n\u001b[1;32m      5\u001b[0m \u001b[0;34m\u001b[0m\u001b[0m\n\u001b[0;32m----> 6\u001b[0;31m \u001b[0mval\u001b[0m\u001b[0;34m,\u001b[0m\u001b[0mw_\u001b[0m\u001b[0;34m,\u001b[0m\u001b[0mk\u001b[0m\u001b[0;34m=\u001b[0m\u001b[0mNewton\u001b[0m\u001b[0;34m(\u001b[0m\u001b[0mf\u001b[0m\u001b[0;34m,\u001b[0m \u001b[0mw0\u001b[0m\u001b[0;34m,\u001b[0m \u001b[0mw\u001b[0m\u001b[0;34m,\u001b[0m \u001b[0mX\u001b[0m\u001b[0;34m,\u001b[0m \u001b[0my\u001b[0m\u001b[0;34m,\u001b[0m \u001b[0mrho\u001b[0m\u001b[0;34m,\u001b[0m \u001b[0mepsilon\u001b[0m\u001b[0;34m)\u001b[0m\u001b[0;34m\u001b[0m\u001b[0m\n\u001b[0m",
      "\u001b[0;32m<ipython-input-47-ac105d1d9cfe>\u001b[0m in \u001b[0;36mNewton\u001b[0;34m(f, w0, w, X, y, rho, epsilon)\u001b[0m\n\u001b[1;32m      7\u001b[0m \u001b[0;34m\u001b[0m\u001b[0m\n\u001b[1;32m      8\u001b[0m     \u001b[0;32mwhile\u001b[0m\u001b[0;34m(\u001b[0m\u001b[0mnorm\u001b[0m \u001b[0;34m>\u001b[0m \u001b[0mepsilon\u001b[0m\u001b[0;34m)\u001b[0m\u001b[0;34m:\u001b[0m\u001b[0;34m\u001b[0m\u001b[0m\n\u001b[0;32m----> 9\u001b[0;31m         \u001b[0ml\u001b[0m \u001b[0;34m=\u001b[0m \u001b[0mnp\u001b[0m\u001b[0;34m.\u001b[0m\u001b[0mappend\u001b[0m\u001b[0;34m(\u001b[0m\u001b[0mw0\u001b[0m\u001b[0;34m,\u001b[0m \u001b[0mw\u001b[0m\u001b[0;34m)\u001b[0m \u001b[0;34m-\u001b[0m \u001b[0mlinalg\u001b[0m\u001b[0;34m.\u001b[0m\u001b[0msolve\u001b[0m\u001b[0;34m(\u001b[0m\u001b[0mhessian\u001b[0m\u001b[0;34m,\u001b[0m \u001b[0mgrad\u001b[0m\u001b[0;34m)\u001b[0m\u001b[0;34m\u001b[0m\u001b[0m\n\u001b[0m\u001b[1;32m     10\u001b[0m         \u001b[0mw0\u001b[0m \u001b[0;34m=\u001b[0m \u001b[0ml\u001b[0m\u001b[0;34m[\u001b[0m\u001b[0;36m0\u001b[0m\u001b[0;34m]\u001b[0m\u001b[0;34m\u001b[0m\u001b[0m\n\u001b[1;32m     11\u001b[0m         \u001b[0mw\u001b[0m \u001b[0;34m=\u001b[0m \u001b[0ml\u001b[0m\u001b[0;34m[\u001b[0m\u001b[0;36m1\u001b[0m\u001b[0;34m:\u001b[0m\u001b[0;34m]\u001b[0m\u001b[0;34m\u001b[0m\u001b[0m\n",
      "\u001b[0;32m~/anaconda3/lib/python3.6/site-packages/scipy/linalg/basic.py\u001b[0m in \u001b[0;36msolve\u001b[0;34m(a, b, sym_pos, lower, overwrite_a, overwrite_b, debug, check_finite, assume_a, transposed)\u001b[0m\n\u001b[1;32m    119\u001b[0m     \u001b[0mb_is_ND\u001b[0m \u001b[0;34m=\u001b[0m \u001b[0;32mFalse\u001b[0m\u001b[0;34m\u001b[0m\u001b[0m\n\u001b[1;32m    120\u001b[0m \u001b[0;34m\u001b[0m\u001b[0m\n\u001b[0;32m--> 121\u001b[0;31m     \u001b[0ma1\u001b[0m \u001b[0;34m=\u001b[0m \u001b[0matleast_2d\u001b[0m\u001b[0;34m(\u001b[0m\u001b[0m_asarray_validated\u001b[0m\u001b[0;34m(\u001b[0m\u001b[0ma\u001b[0m\u001b[0;34m,\u001b[0m \u001b[0mcheck_finite\u001b[0m\u001b[0;34m=\u001b[0m\u001b[0mcheck_finite\u001b[0m\u001b[0;34m)\u001b[0m\u001b[0;34m)\u001b[0m\u001b[0;34m\u001b[0m\u001b[0m\n\u001b[0m\u001b[1;32m    122\u001b[0m     \u001b[0mb1\u001b[0m \u001b[0;34m=\u001b[0m \u001b[0matleast_1d\u001b[0m\u001b[0;34m(\u001b[0m\u001b[0m_asarray_validated\u001b[0m\u001b[0;34m(\u001b[0m\u001b[0mb\u001b[0m\u001b[0;34m,\u001b[0m \u001b[0mcheck_finite\u001b[0m\u001b[0;34m=\u001b[0m\u001b[0mcheck_finite\u001b[0m\u001b[0;34m)\u001b[0m\u001b[0;34m)\u001b[0m\u001b[0;34m\u001b[0m\u001b[0m\n\u001b[1;32m    123\u001b[0m     \u001b[0mn\u001b[0m \u001b[0;34m=\u001b[0m \u001b[0ma1\u001b[0m\u001b[0;34m.\u001b[0m\u001b[0mshape\u001b[0m\u001b[0;34m[\u001b[0m\u001b[0;36m0\u001b[0m\u001b[0;34m]\u001b[0m\u001b[0;34m\u001b[0m\u001b[0m\n",
      "\u001b[0;32m~/anaconda3/lib/python3.6/site-packages/scipy/_lib/_util.py\u001b[0m in \u001b[0;36m_asarray_validated\u001b[0;34m(a, check_finite, sparse_ok, objects_ok, mask_ok, as_inexact)\u001b[0m\n\u001b[1;32m    236\u001b[0m             \u001b[0;32mraise\u001b[0m \u001b[0mValueError\u001b[0m\u001b[0;34m(\u001b[0m\u001b[0;34m'masked arrays are not supported'\u001b[0m\u001b[0;34m)\u001b[0m\u001b[0;34m\u001b[0m\u001b[0m\n\u001b[1;32m    237\u001b[0m     \u001b[0mtoarray\u001b[0m \u001b[0;34m=\u001b[0m \u001b[0mnp\u001b[0m\u001b[0;34m.\u001b[0m\u001b[0masarray_chkfinite\u001b[0m \u001b[0;32mif\u001b[0m \u001b[0mcheck_finite\u001b[0m \u001b[0;32melse\u001b[0m \u001b[0mnp\u001b[0m\u001b[0;34m.\u001b[0m\u001b[0masarray\u001b[0m\u001b[0;34m\u001b[0m\u001b[0m\n\u001b[0;32m--> 238\u001b[0;31m     \u001b[0ma\u001b[0m \u001b[0;34m=\u001b[0m \u001b[0mtoarray\u001b[0m\u001b[0;34m(\u001b[0m\u001b[0ma\u001b[0m\u001b[0;34m)\u001b[0m\u001b[0;34m\u001b[0m\u001b[0m\n\u001b[0m\u001b[1;32m    239\u001b[0m     \u001b[0;32mif\u001b[0m \u001b[0;32mnot\u001b[0m \u001b[0mobjects_ok\u001b[0m\u001b[0;34m:\u001b[0m\u001b[0;34m\u001b[0m\u001b[0m\n\u001b[1;32m    240\u001b[0m         \u001b[0;32mif\u001b[0m \u001b[0ma\u001b[0m\u001b[0;34m.\u001b[0m\u001b[0mdtype\u001b[0m \u001b[0;32mis\u001b[0m \u001b[0mnp\u001b[0m\u001b[0;34m.\u001b[0m\u001b[0mdtype\u001b[0m\u001b[0;34m(\u001b[0m\u001b[0;34m'O'\u001b[0m\u001b[0;34m)\u001b[0m\u001b[0;34m:\u001b[0m\u001b[0;34m\u001b[0m\u001b[0m\n",
      "\u001b[0;32m~/anaconda3/lib/python3.6/site-packages/numpy/lib/function_base.py\u001b[0m in \u001b[0;36masarray_chkfinite\u001b[0;34m(a, dtype, order)\u001b[0m\n\u001b[1;32m   1213\u001b[0m     \u001b[0;32mif\u001b[0m \u001b[0ma\u001b[0m\u001b[0;34m.\u001b[0m\u001b[0mdtype\u001b[0m\u001b[0;34m.\u001b[0m\u001b[0mchar\u001b[0m \u001b[0;32min\u001b[0m \u001b[0mtypecodes\u001b[0m\u001b[0;34m[\u001b[0m\u001b[0;34m'AllFloat'\u001b[0m\u001b[0;34m]\u001b[0m \u001b[0;32mand\u001b[0m \u001b[0;32mnot\u001b[0m \u001b[0mnp\u001b[0m\u001b[0;34m.\u001b[0m\u001b[0misfinite\u001b[0m\u001b[0;34m(\u001b[0m\u001b[0ma\u001b[0m\u001b[0;34m)\u001b[0m\u001b[0;34m.\u001b[0m\u001b[0mall\u001b[0m\u001b[0;34m(\u001b[0m\u001b[0;34m)\u001b[0m\u001b[0;34m:\u001b[0m\u001b[0;34m\u001b[0m\u001b[0m\n\u001b[1;32m   1214\u001b[0m         raise ValueError(\n\u001b[0;32m-> 1215\u001b[0;31m             \"array must not contain infs or NaNs\")\n\u001b[0m\u001b[1;32m   1216\u001b[0m     \u001b[0;32mreturn\u001b[0m \u001b[0ma\u001b[0m\u001b[0;34m\u001b[0m\u001b[0m\n\u001b[1;32m   1217\u001b[0m \u001b[0;34m\u001b[0m\u001b[0m\n",
      "\u001b[0;31mValueError\u001b[0m: array must not contain infs or NaNs"
     ]
    }
   ],
   "source": [
    "rho = 1.0 / X.shape[0]\n",
    "epsilon=10e-10\n",
    "w0=0.3\n",
    "w=0.3*np.ones(X.shape[1])\n",
    "\n",
    "val,w_,k=Newton(f, w0, w, X, y, rho, epsilon)"
   ]
  },
  {
   "cell_type": "markdown",
   "metadata": {
    "collapsed": true
   },
   "source": [
    "####  The Problem of overflow !!"
   ]
  },
  {
   "cell_type": "markdown",
   "metadata": {},
   "source": [
    "## Question1.5"
   ]
  },
  {
   "cell_type": "code",
   "execution_count": null,
   "metadata": {
    "collapsed": true
   },
   "outputs": [],
   "source": [
    "def armijo(P,func,hessi_grad,a,b):\n",
    "    \n",
    "    \"\"\"\n",
    "    Search for the next step according Armijo condition\n",
    "    \n",
    "    Input:\n",
    "   \n",
    "    func= the objective function\n",
    "    grad = the gradient of objective function\n",
    "    a = \n",
    "    b = \n",
    "    \n",
    "    Output:\n",
    "    \n",
    "    the value of step\n",
    "   \n",
    "    \"\"\"\n",
    "    k=1\n",
    "    beta =0.5\n",
    "    gamma =b*(a**k)\n",
    "    \n",
    "    \n",
    "    while ( func(P - gamma*grad(P)) >= func(P) -beta*gamma*np.linalg.norm(grad(P))**2 ):\n",
    "        k=k+1\n",
    "        gamma= b*(a**k)\n",
    "    \n",
    "            \n",
    "    return gamma"
   ]
  },
  {
   "cell_type": "code",
   "execution_count": null,
   "metadata": {
    "collapsed": true
   },
   "outputs": [],
   "source": [
    "def NewtonLinearSearch(f, w0, w, X, y, rho, epsilon):\n",
    "\n",
    "    val, grad, hessian = f(w0, w, X, y, rho)\n",
    "\n",
    "    norm = np.linalg.norm(grad[1:])\n",
    "    k = 0\n",
    "    \n",
    "    a = 0.5\n",
    "    b = 1.0\n",
    "    gamma = b\n",
    "    \n",
    "    hessi_grad=linalg.solve(hessian, grad)\n",
    "    \n",
    "    while(norm > epsilon):\n",
    "        l = np.append(w0, w) - gamma*hessi_grad\n",
    "        w0 = l[0]\n",
    "        w = l[1:]\n",
    "\n",
    "        val, grad, hessian = f(w0, w, X, y, rho)\n",
    "        hessi_grad =linalg.solve(hessian, grad)\n",
    "        gamma = armijo(P,func, grad,a,b)\n",
    "\n",
    "        norm = np.linalg.norm(grad[1:])\n",
    "\n",
    "        k = k + 1\n",
    "\n",
    "    return val, np.append(w0,w), k"
   ]
  },
  {
   "cell_type": "code",
   "execution_count": 64,
   "metadata": {
    "collapsed": true
   },
   "outputs": [],
   "source": []
  },
  {
   "cell_type": "code",
   "execution_count": null,
   "metadata": {
    "collapsed": true
   },
   "outputs": [],
   "source": []
  },
  {
   "cell_type": "code",
   "execution_count": null,
   "metadata": {
    "collapsed": true
   },
   "outputs": [],
   "source": []
  }
 ],
 "metadata": {
  "kernelspec": {
   "display_name": "Python 3",
   "language": "python",
   "name": "python3"
  },
  "language_info": {
   "codemirror_mode": {
    "name": "ipython",
    "version": 3
   },
   "file_extension": ".py",
   "mimetype": "text/x-python",
   "name": "python",
   "nbconvert_exporter": "python",
   "pygments_lexer": "ipython3",
   "version": "3.6.3"
  }
 },
 "nbformat": 4,
 "nbformat_minor": 2
}
