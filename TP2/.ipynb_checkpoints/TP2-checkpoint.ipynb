{
 "cells": [
  {
   "cell_type": "code",
   "execution_count": 69,
   "metadata": {
    "collapsed": true
   },
   "outputs": [],
   "source": [
    "from math import log, exp, sqrt\n",
    "import numpy as np"
   ]
  },
  {
   "cell_type": "code",
   "execution_count": 70,
   "metadata": {
    "collapsed": true
   },
   "outputs": [],
   "source": [
    "## Prepare Data\n",
    "from diabeticRetinopathyUtils import load_diabetic_retinopathy\n",
    "X,y = load_diabetic_retinopathy(filename = \"diabeticRetinopathy.csv\")"
   ]
  },
  {
   "cell_type": "markdown",
   "metadata": {},
   "source": [
    "## Q1.1"
   ]
  },
  {
   "cell_type": "markdown",
   "metadata": {},
   "source": [
    "### Computing the value, gradient and hessian of the objective function $f$\n",
    "\n",
    "The goal is to find $ (\\omega_0^*, \\omega^*) = \\underset{\\omega_0 \\in \\mathbb{R}, \\omega \\in \\mathbb{R}^n}{arg min} f(\\omega_0, \\omega)$ where $$f(\\omega_0, \\omega) = \\frac{1}{n}\\sum_{i=1}^n{log\\left(1+ e^{-y_i\\left(x_i^T\\omega+\\omega_0\\right)}\\right)} + \\frac{\\rho}{2}{\\|\\omega\\|}^2_2$$\n",
    "\n",
    "\n",
    "The gradient will be :\n",
    "\n",
    "$$ \\nabla f(w_{0},w ) =\\big ( \\frac {\\partial f}{\\partial w_0} ,  \\frac {\\partial f}{\\partial w} \\big) = \\big( \\frac{1}{n}\\sum_{n=1}^{n}\\frac{-y_{i}}{1 + exp(y_{i}(X_{i}^T w + w_{0}))} , \\frac{1}{n}\\sum_{n=1}^{n}\\frac{-X_{i} y_{i}}{1 + exp(y_{i}(X_{i}^T w + w_{0}))} + \\rho w  \\big)   $$\n",
    "\n",
    "\n",
    "The Hessian matrix will be : \n",
    "\n",
    "\n",
    "Let $ z_{i} = x_{i}^T w +w_{0} $\n",
    "\n",
    "$$ \\frac {\\partial^2 f}{\\partial w_0 ^2} =  \\frac {1}{n} \\sum_{n=1}^{n} \\frac {exp(y_{i}z_{i})}{( 1 + exp(y_{i}z_{i}))^2} y_{i}^2 $$\n",
    "\n",
    "$$ \\frac {\\partial^2 f}{\\partial w_0 \\partial w} =  \\frac {1}{n} \\sum_{n=1}^{n} \\frac {x^{T} y_{i}^2 exp(y_{i}z_{i})}{( 1 + exp(y_{i}z_{i}))^2} $$\n",
    "\n",
    "$$ \\frac {\\partial^2 f}{\\partial w \\partial w_0} =  \\frac {1}{n} \\sum_{n=1}^{n} \\frac {x_{i} y_{i}^2 exp(y_{i}z_{i})}{( 1 + exp(y_{i}z_{i}))^2} $$\n",
    "\n",
    "$$ \\frac {\\partial^2 f}{\\partial w ^2} =  \\frac {1}{n} \\sum_{n=1}^{n} \\frac {x_{i}x^{T} y_{i}^2 }{( 1 + exp(y_{i}z_{i}))^2}  + \\rho I$$\n",
    "\n",
    "$Hessian(f)$ =\n",
    "\\begin{pmatrix} \n",
    "\\frac {\\partial^2 f}{\\partial w_0 ^2} &  \\frac {\\partial^2 f}{\\partial w_0 \\partial w}\\\\\n",
    "\\frac {\\partial^2 f}{\\partial w \\partial w_0} & \\frac {\\partial^2 f}{\\partial w ^2} \n",
    "\\end{pmatrix}\n",
    "\n",
    "We can see that every element of the hessian matrix is positive, so we can say that the hessian matrix is positive and the objetive funtion is convex."
   ]
  },
  {
   "cell_type": "code",
   "execution_count": null,
   "metadata": {
    "collapsed": true
   },
   "outputs": [],
   "source": []
  },
  {
   "cell_type": "markdown",
   "metadata": {},
   "source": [
    "## Q1.2"
   ]
  },
  {
   "cell_type": "code",
   "execution_count": 86,
   "metadata": {
    "collapsed": true
   },
   "outputs": [],
   "source": [
    "def f(w0,w,X,y):\n",
    "    n = range(X.shape[0])\n",
    "    rho = 1.0/X.shape[0]\n",
    "    z = [X[i].dot(w)+w0 for i in n]\n",
    "    \n",
    "    #VALUE\n",
    "    summands = [log(1+exp(-y[i]*z[i])) for i in n]\n",
    "    func = sum(summands) + rho/2*np.linalg.norm(w)**2\n",
    "        \n",
    "    #GRADIENT\n",
    "    summands = [-y[i]/(1+exp(y[i]*z[i])) for i in n]\n",
    "    grad_w0 = sum(summands)\n",
    "                        \n",
    "    summands = [-X[i]*y[i]/(1+exp(y[i]*z[i])) for i in n]  \n",
    "    grad_w = sum(summands) + rho*np.linalg.norm(w)\n",
    "    \n",
    "    #HESSIAN\n",
    "    # Prepare a*a^T where a = [1,X[i]]\n",
    "    a = [np.insert(X[i],0,1) for i in n]\n",
    "    ex = [exp(y[i]*z[i]) for i in n]\n",
    "    # Prepare a matrix with zeros in the first row and colomn, rho else\n",
    "    sqrt_rho = sqrt(rho)*np.ones(19)\n",
    "    sqrt_rho = np.insert(sqrt_rho,0,0)\n",
    "    rho_matrix = np.outer(sqrt_rho,sqrt_rho)\n",
    "    \n",
    "    summands = [np.outer(a[i],a[i])*ex[i]*(y[i]/(1+ex[i])**2) for i in n]\n",
    "    hessian = sum(summands) + rho_matrix\n",
    "    \n",
    "    return func,[grad_w0,grad_w],hessian\n",
    "    \n",
    "if False:\n",
    "    w = np.random.randn(19)\n",
    "    f(0,w,X,y)\n",
    "    \n",
    "    \n",
    "#TODO check_gradient\n",
    "    \n",
    "    \n",
    "    "
   ]
  },
  {
   "cell_type": "markdown",
   "metadata": {},
   "source": [
    "## Q1.3"
   ]
  },
  {
   "cell_type": "code",
   "execution_count": null,
   "metadata": {
    "collapsed": true
   },
   "outputs": [],
   "source": [
    "def Newton(f,w0=0,w=0,X=X,y=y):\n",
    "    "
   ]
  },
  {
   "cell_type": "code",
   "execution_count": null,
   "metadata": {
    "collapsed": true
   },
   "outputs": [],
   "source": []
  }
 ],
 "metadata": {
  "kernelspec": {
   "display_name": "Python 3",
   "language": "python",
   "name": "python3"
  },
  "language_info": {
   "codemirror_mode": {
    "name": "ipython",
    "version": 3
   },
   "file_extension": ".py",
   "mimetype": "text/x-python",
   "name": "python",
   "nbconvert_exporter": "python",
   "pygments_lexer": "ipython3",
   "version": "3.6.3"
  }
 },
 "nbformat": 4,
 "nbformat_minor": 2
}
